{
  "nbformat": 4,
  "nbformat_minor": 0,
  "metadata": {
    "accelerator": "GPU",
    "colab": {
      "name": "NLP Course - Week 3 Exercise Question.ipynb",
      "provenance": [],
      "collapsed_sections": [],
      "include_colab_link": true
    },
    "kernelspec": {
      "display_name": "Python 3",
      "name": "python3"
    }
  },
  "cells": [
    {
      "cell_type": "markdown",
      "metadata": {
        "id": "view-in-github",
        "colab_type": "text"
      },
      "source": [
        "<a href=\"https://colab.research.google.com/github/ZequnZ/COVID-19-NL/blob/master/notebooks/NLP_Course_Week_3_Exercise_Question.ipynb\" target=\"_parent\"><img src=\"https://colab.research.google.com/assets/colab-badge.svg\" alt=\"Open In Colab\"/></a>"
      ]
    },
    {
      "cell_type": "code",
      "metadata": {
        "id": "zX4Kg8DUTKWO",
        "colab_type": "code",
        "colab": {}
      },
      "source": [
        "#@title Licensed under the Apache License, Version 2.0 (the \"License\");\n",
        "# you may not use this file except in compliance with the License.\n",
        "# You may obtain a copy of the License at\n",
        "#\n",
        "# https://www.apache.org/licenses/LICENSE-2.0\n",
        "#\n",
        "# Unless required by applicable law or agreed to in writing, software\n",
        "# distributed under the License is distributed on an \"AS IS\" BASIS,\n",
        "# WITHOUT WARRANTIES OR CONDITIONS OF ANY KIND, either express or implied.\n",
        "# See the License for the specific language governing permissions and\n",
        "# limitations under the License."
      ],
      "execution_count": null,
      "outputs": []
    },
    {
      "cell_type": "code",
      "metadata": {
        "colab_type": "code",
        "id": "hmA6EzkQJ5jt",
        "colab": {}
      },
      "source": [
        "import json\n",
        "import tensorflow as tf\n",
        "import csv\n",
        "import random\n",
        "import numpy as np\n",
        "import pandas as pd\n",
        "\n",
        "from tensorflow.keras.preprocessing.text import Tokenizer\n",
        "from tensorflow.keras.preprocessing.sequence import pad_sequences\n",
        "from tensorflow.keras.utils import to_categorical\n",
        "from tensorflow.keras import regularizers\n",
        "\n",
        "\n",
        "embedding_dim = 100\n",
        "max_length = 16\n",
        "trunc_type='post'\n",
        "padding_type='post'\n",
        "oov_tok = \"<OOV>\"\n",
        "training_size= 160000 #Your dataset size here. Experiment using smaller values (i.e. 16000), but don't forget to train on at least 160000 to see the best effects\n",
        "test_portion=.1\n",
        "\n",
        "corpus = []\n"
      ],
      "execution_count": 1,
      "outputs": []
    },
    {
      "cell_type": "code",
      "metadata": {
        "id": "swXlaHqxRMO3",
        "colab_type": "code",
        "colab": {}
      },
      "source": [
        "df = pd.read_csv(\"/tmp/training_cleaned.csv\")"
      ],
      "execution_count": 20,
      "outputs": []
    },
    {
      "cell_type": "code",
      "metadata": {
        "colab_type": "code",
        "id": "bM0l_dORKqE0",
        "colab": {
          "base_uri": "https://localhost:8080/",
          "height": 224
        },
        "outputId": "ecd3487c-4ae3-48b0-8486-d54c6687d348"
      },
      "source": [
        "# Note that I cleaned the Stanford dataset to remove LATIN1 encoding to make it easier for Python CSV reader\n",
        "# You can do that yourself with:\n",
        "# iconv -f LATIN1 -t UTF8 training.1600000.processed.noemoticon.csv -o training_cleaned.csv\n",
        "# I then hosted it on my site to make it easier to use in this notebook\n",
        "\n",
        "!wget --no-check-certificate \\\n",
        "    https://storage.googleapis.com/laurencemoroney-blog.appspot.com/training_cleaned.csv \\\n",
        "    -O /tmp/training_cleaned.csv\n",
        "\n",
        "num_sentences = 0\n",
        "list_item =[]\n",
        "\n",
        "with open(\"/tmp/training_cleaned.csv\") as csvfile:\n",
        "    reader = csv.reader(csvfile, delimiter=',')\n",
        "    for row in reader:\n",
        "      # Your Code here. Create list items where the first item is the text, found in row[5], and the second is the label. Note that the label is a '0' or a '4' in the text. When it's the former, make\n",
        "      # your label to be 0, otherwise 1. Keep a count of the number of sentences in num_sentences\n",
        "        list_item=[row[5], 0 if row[0]=='0' else 1]\n",
        "\n",
        "        num_sentences = num_sentences + 1\n",
        "        corpus.append(list_item)\n"
      ],
      "execution_count": 2,
      "outputs": [
        {
          "output_type": "stream",
          "text": [
            "--2020-09-14 12:42:08--  https://storage.googleapis.com/laurencemoroney-blog.appspot.com/training_cleaned.csv\n",
            "Resolving storage.googleapis.com (storage.googleapis.com)... 74.125.204.128, 64.233.188.128, 64.233.189.128, ...\n",
            "Connecting to storage.googleapis.com (storage.googleapis.com)|74.125.204.128|:443... connected.\n",
            "HTTP request sent, awaiting response... 200 OK\n",
            "Length: 238942690 (228M) [application/octet-stream]\n",
            "Saving to: ‘/tmp/training_cleaned.csv’\n",
            "\n",
            "/tmp/training_clean 100%[===================>] 227.87M  32.8MB/s    in 7.0s    \n",
            "\n",
            "2020-09-14 12:42:15 (32.8 MB/s) - ‘/tmp/training_cleaned.csv’ saved [238942690/238942690]\n",
            "\n"
          ],
          "name": "stdout"
        }
      ]
    },
    {
      "cell_type": "code",
      "metadata": {
        "colab_type": "code",
        "id": "3kxblBUjEUX-",
        "colab": {
          "base_uri": "https://localhost:8080/",
          "height": 88
        },
        "outputId": "a5290b60-af04-4040-8901-40dee36b8c31"
      },
      "source": [
        "print(num_sentences)\n",
        "print(len(corpus))\n",
        "print(corpus[1])\n",
        "\n",
        "# Expected Output:\n",
        "# 1600000\n",
        "# 1600000\n",
        "# [\"is upset that he can't update his Facebook by texting it... and might cry as a result  School today also. Blah!\", 0]"
      ],
      "execution_count": 3,
      "outputs": [
        {
          "output_type": "stream",
          "text": [
            "1600000\n",
            "1600000\n",
            "[\"is upset that he can't update his Facebook by texting it... and might cry as a result  School today also. Blah!\", 0]\n"
          ],
          "name": "stdout"
        }
      ]
    },
    {
      "cell_type": "code",
      "metadata": {
        "colab_type": "code",
        "id": "ohOGz24lsNAD",
        "colab": {
          "base_uri": "https://localhost:8080/",
          "height": 34
        },
        "outputId": "e0172371-7dc7-48ec-b65b-6f4314f7d07a"
      },
      "source": [
        "sentences=[]\n",
        "labels=[]\n",
        "random.shuffle(corpus)\n",
        "for x in range(training_size):\n",
        "    sentences.append(corpus[x][0])\n",
        "    labels.append(corpus[x][1])\n",
        "\n",
        "\n",
        "tokenizer = Tokenizer(oov_token=oov_tok)\n",
        "tokenizer.fit_on_texts(sentences)\n",
        "\n",
        "word_index = tokenizer.word_index\n",
        "vocab_size=len(word_index)\n",
        "print(vocab_size)\n",
        "\n",
        "sequences = tokenizer.texts_to_sequences(sentences)\n",
        "padded = pad_sequences(sequences,maxlen=max_length,padding=padding_type,truncating=trunc_type)\n",
        "\n",
        "split = int(test_portion * training_size)\n",
        "\n",
        "test_sequences = padded[0:split]\n",
        "training_sequences = padded[split:]\n",
        "test_labels = np.array(labels[0:split])\n",
        "training_labels = np.array(labels[split:])"
      ],
      "execution_count": 15,
      "outputs": [
        {
          "output_type": "stream",
          "text": [
            "138059\n"
          ],
          "name": "stdout"
        }
      ]
    },
    {
      "cell_type": "code",
      "metadata": {
        "id": "4Dr0S1FMtjH0",
        "colab_type": "code",
        "colab": {
          "base_uri": "https://localhost:8080/",
          "height": 34
        },
        "outputId": "72fad9af-c0c1-4630-d9b8-15a6bc4722cb"
      },
      "source": [
        "type(test_labels)"
      ],
      "execution_count": 18,
      "outputs": [
        {
          "output_type": "execute_result",
          "data": {
            "text/plain": [
              "numpy.ndarray"
            ]
          },
          "metadata": {
            "tags": []
          },
          "execution_count": 18
        }
      ]
    },
    {
      "cell_type": "code",
      "metadata": {
        "colab_type": "code",
        "id": "gIrtRem1En3N",
        "colab": {
          "base_uri": "https://localhost:8080/",
          "height": 51
        },
        "outputId": "3d7fa89a-92cc-4ff8-97c0-30d86bed67c2"
      },
      "source": [
        "print(vocab_size)\n",
        "print(word_index['i'])\n",
        "# Expected Output\n",
        "# 138858\n",
        "# 1"
      ],
      "execution_count": 16,
      "outputs": [
        {
          "output_type": "stream",
          "text": [
            "138059\n",
            "2\n"
          ],
          "name": "stdout"
        }
      ]
    },
    {
      "cell_type": "code",
      "metadata": {
        "colab_type": "code",
        "id": "C1zdgJkusRh0",
        "colab": {
          "base_uri": "https://localhost:8080/",
          "height": 224
        },
        "outputId": "0f5d0678-80dc-4068-e831-f3c5fe9eee06"
      },
      "source": [
        "# Note this is the 100 dimension version of GloVe from Stanford\n",
        "# I unzipped and hosted it on my site to make this notebook easier\n",
        "!wget --no-check-certificate \\\n",
        "    https://storage.googleapis.com/laurencemoroney-blog.appspot.com/glove.6B.100d.txt \\\n",
        "    -O /tmp/glove.6B.100d.txt\n",
        "embeddings_index = {};\n",
        "with open('/tmp/glove.6B.100d.txt') as f:\n",
        "    for line in f:\n",
        "        values = line.split();\n",
        "        word = values[0];\n",
        "        coefs = np.asarray(values[1:], dtype='float32');\n",
        "        embeddings_index[word] = coefs;\n",
        "\n",
        "embeddings_matrix = np.zeros((vocab_size+1, embedding_dim));\n",
        "for word, i in word_index.items():\n",
        "    embedding_vector = embeddings_index.get(word);\n",
        "    if embedding_vector is not None:\n",
        "        embeddings_matrix[i] = embedding_vector;"
      ],
      "execution_count": 19,
      "outputs": [
        {
          "output_type": "stream",
          "text": [
            "--2020-09-14 13:04:36--  https://storage.googleapis.com/laurencemoroney-blog.appspot.com/glove.6B.100d.txt\n",
            "Resolving storage.googleapis.com (storage.googleapis.com)... 74.125.204.128, 64.233.189.128, 108.177.97.128, ...\n",
            "Connecting to storage.googleapis.com (storage.googleapis.com)|74.125.204.128|:443... connected.\n",
            "HTTP request sent, awaiting response... 200 OK\n",
            "Length: 347116733 (331M) [text/plain]\n",
            "Saving to: ‘/tmp/glove.6B.100d.txt’\n",
            "\n",
            "/tmp/glove.6B.100d. 100%[===================>] 331.04M  53.2MB/s    in 6.2s    \n",
            "\n",
            "2020-09-14 13:04:43 (53.2 MB/s) - ‘/tmp/glove.6B.100d.txt’ saved [347116733/347116733]\n",
            "\n"
          ],
          "name": "stdout"
        }
      ]
    },
    {
      "cell_type": "code",
      "metadata": {
        "colab_type": "code",
        "id": "71NLk_lpFLNt",
        "colab": {
          "base_uri": "https://localhost:8080/",
          "height": 34
        },
        "outputId": "5032b931-f6c9-48d1-9f7a-611102af2320"
      },
      "source": [
        "print(len(embeddings_matrix))\n",
        "# Expected Output\n",
        "# 138859"
      ],
      "execution_count": 20,
      "outputs": [
        {
          "output_type": "stream",
          "text": [
            "138060\n"
          ],
          "name": "stdout"
        }
      ]
    },
    {
      "cell_type": "code",
      "metadata": {
        "id": "RDQT3pGaWGIP",
        "colab_type": "code",
        "colab": {
          "base_uri": "https://localhost:8080/",
          "height": 1000
        },
        "outputId": "dfa4631d-36ab-4ecb-bf6a-fd1a5c2ee03f"
      },
      "source": [
        "# LSTM model\n",
        "lstm_model = tf.keras.Sequential([\n",
        "    tf.keras.layers.Embedding(vocab_size+1, embedding_dim, input_length=max_length, weights=[embeddings_matrix], trainable=False),\n",
        "    # YOUR CODE HERE - experiment with combining different types, such as convolutions and LSTMs\n",
        "    tf.keras.layers.Bidirectional(tf.keras.layers.LSTM(units=64, return_sequences=True)),\n",
        "    tf.keras.layers.Bidirectional(tf.keras.layers.LSTM(units=64, return_sequences=True)),\n",
        "    tf.keras.layers.Flatten(),\n",
        "    tf.keras.layers.Dense(128,activation='relu'),\n",
        "    tf.keras.layers.Dense(1,activation='sigmoid'),\n",
        "])\n",
        "lstm_model.compile(optimizer='adam',loss='binary_crossentropy',metrics=['accuracy'])\n",
        "lstm_model.summary()\n",
        "\n",
        "num_epochs = 50\n",
        "history = lstm_model.fit(training_sequences, training_labels, epochs=num_epochs, validation_data=(test_sequences, test_labels), verbose=2)\n",
        "\n",
        "print(\"Training Complete\")\n"
      ],
      "execution_count": 21,
      "outputs": [
        {
          "output_type": "stream",
          "text": [
            "Model: \"sequential_1\"\n",
            "_________________________________________________________________\n",
            "Layer (type)                 Output Shape              Param #   \n",
            "=================================================================\n",
            "embedding_2 (Embedding)      (None, 16, 100)           13806000  \n",
            "_________________________________________________________________\n",
            "bidirectional_3 (Bidirection (None, 16, 128)           84480     \n",
            "_________________________________________________________________\n",
            "bidirectional_4 (Bidirection (None, 16, 128)           98816     \n",
            "_________________________________________________________________\n",
            "flatten_1 (Flatten)          (None, 2048)              0         \n",
            "_________________________________________________________________\n",
            "dense_2 (Dense)              (None, 128)               262272    \n",
            "_________________________________________________________________\n",
            "dense_3 (Dense)              (None, 1)                 129       \n",
            "=================================================================\n",
            "Total params: 14,251,697\n",
            "Trainable params: 445,697\n",
            "Non-trainable params: 13,806,000\n",
            "_________________________________________________________________\n",
            "Epoch 1/50\n",
            "4500/4500 - 96s - loss: 0.5328 - accuracy: 0.7287 - val_loss: 0.4973 - val_accuracy: 0.7551\n",
            "Epoch 2/50\n",
            "4500/4500 - 94s - loss: 0.4785 - accuracy: 0.7689 - val_loss: 0.4708 - val_accuracy: 0.7729\n",
            "Epoch 3/50\n",
            "4500/4500 - 94s - loss: 0.4529 - accuracy: 0.7841 - val_loss: 0.4663 - val_accuracy: 0.7775\n",
            "Epoch 4/50\n",
            "4500/4500 - 94s - loss: 0.4299 - accuracy: 0.7967 - val_loss: 0.4631 - val_accuracy: 0.7792\n",
            "Epoch 5/50\n",
            "4500/4500 - 94s - loss: 0.4044 - accuracy: 0.8123 - val_loss: 0.4757 - val_accuracy: 0.7783\n",
            "Epoch 6/50\n",
            "4500/4500 - 94s - loss: 0.3751 - accuracy: 0.8279 - val_loss: 0.5002 - val_accuracy: 0.7784\n",
            "Epoch 7/50\n",
            "4500/4500 - 94s - loss: 0.3397 - accuracy: 0.8457 - val_loss: 0.5269 - val_accuracy: 0.7682\n",
            "Epoch 8/50\n",
            "4500/4500 - 94s - loss: 0.2975 - accuracy: 0.8664 - val_loss: 0.5768 - val_accuracy: 0.7644\n",
            "Epoch 9/50\n",
            "4500/4500 - 94s - loss: 0.2524 - accuracy: 0.8883 - val_loss: 0.6686 - val_accuracy: 0.7521\n",
            "Epoch 10/50\n",
            "4500/4500 - 94s - loss: 0.2099 - accuracy: 0.9093 - val_loss: 0.8325 - val_accuracy: 0.7479\n",
            "Epoch 11/50\n",
            "4500/4500 - 95s - loss: 0.1731 - accuracy: 0.9271 - val_loss: 0.8880 - val_accuracy: 0.7499\n",
            "Epoch 12/50\n",
            "4500/4500 - 94s - loss: 0.1442 - accuracy: 0.9402 - val_loss: 1.0909 - val_accuracy: 0.7501\n",
            "Epoch 13/50\n",
            "4500/4500 - 94s - loss: 0.1219 - accuracy: 0.9502 - val_loss: 1.1464 - val_accuracy: 0.7415\n",
            "Epoch 14/50\n",
            "4500/4500 - 94s - loss: 0.1089 - accuracy: 0.9566 - val_loss: 1.2817 - val_accuracy: 0.7449\n",
            "Epoch 15/50\n",
            "4500/4500 - 94s - loss: 0.0963 - accuracy: 0.9625 - val_loss: 1.3849 - val_accuracy: 0.7415\n",
            "Epoch 16/50\n",
            "4500/4500 - 94s - loss: 0.0881 - accuracy: 0.9656 - val_loss: 1.4272 - val_accuracy: 0.7420\n",
            "Epoch 17/50\n",
            "4500/4500 - 95s - loss: 0.0830 - accuracy: 0.9676 - val_loss: 1.4452 - val_accuracy: 0.7449\n",
            "Epoch 18/50\n",
            "4500/4500 - 94s - loss: 0.0764 - accuracy: 0.9711 - val_loss: 1.5595 - val_accuracy: 0.7491\n",
            "Epoch 19/50\n",
            "4500/4500 - 94s - loss: 0.0738 - accuracy: 0.9723 - val_loss: 1.5607 - val_accuracy: 0.7414\n",
            "Epoch 20/50\n",
            "4500/4500 - 94s - loss: 0.0681 - accuracy: 0.9743 - val_loss: 1.6996 - val_accuracy: 0.7418\n",
            "Epoch 21/50\n",
            "4500/4500 - 94s - loss: 0.0639 - accuracy: 0.9759 - val_loss: 1.8008 - val_accuracy: 0.7436\n",
            "Epoch 22/50\n",
            "4500/4500 - 95s - loss: 0.0626 - accuracy: 0.9765 - val_loss: 1.6261 - val_accuracy: 0.7425\n",
            "Epoch 23/50\n",
            "4500/4500 - 94s - loss: 0.0612 - accuracy: 0.9777 - val_loss: 1.8195 - val_accuracy: 0.7472\n",
            "Epoch 24/50\n",
            "4500/4500 - 95s - loss: 0.0585 - accuracy: 0.9781 - val_loss: 1.8612 - val_accuracy: 0.7489\n",
            "Epoch 25/50\n",
            "4500/4500 - 95s - loss: 0.0559 - accuracy: 0.9791 - val_loss: 1.8188 - val_accuracy: 0.7457\n",
            "Epoch 26/50\n",
            "4500/4500 - 94s - loss: 0.0563 - accuracy: 0.9792 - val_loss: 1.8068 - val_accuracy: 0.7452\n",
            "Epoch 27/50\n",
            "4500/4500 - 94s - loss: 0.0537 - accuracy: 0.9801 - val_loss: 1.8518 - val_accuracy: 0.7452\n",
            "Epoch 28/50\n",
            "4500/4500 - 94s - loss: 0.0515 - accuracy: 0.9810 - val_loss: 1.8116 - val_accuracy: 0.7435\n",
            "Epoch 29/50\n",
            "4500/4500 - 94s - loss: 0.0509 - accuracy: 0.9815 - val_loss: 1.8876 - val_accuracy: 0.7441\n",
            "Epoch 30/50\n",
            "4500/4500 - 94s - loss: 0.0511 - accuracy: 0.9813 - val_loss: 1.9461 - val_accuracy: 0.7448\n",
            "Epoch 31/50\n",
            "4500/4500 - 94s - loss: 0.0478 - accuracy: 0.9824 - val_loss: 1.8474 - val_accuracy: 0.7418\n",
            "Epoch 32/50\n",
            "4500/4500 - 94s - loss: 0.0488 - accuracy: 0.9822 - val_loss: 1.8685 - val_accuracy: 0.7445\n",
            "Epoch 33/50\n",
            "4500/4500 - 94s - loss: 0.0478 - accuracy: 0.9823 - val_loss: 2.0090 - val_accuracy: 0.7452\n",
            "Epoch 34/50\n",
            "4500/4500 - 94s - loss: 0.0453 - accuracy: 0.9834 - val_loss: 1.9456 - val_accuracy: 0.7439\n",
            "Epoch 35/50\n",
            "4500/4500 - 94s - loss: 0.0447 - accuracy: 0.9835 - val_loss: 1.9981 - val_accuracy: 0.7399\n",
            "Epoch 36/50\n",
            "4500/4500 - 94s - loss: 0.0442 - accuracy: 0.9840 - val_loss: 1.9666 - val_accuracy: 0.7394\n",
            "Epoch 37/50\n",
            "4500/4500 - 94s - loss: 0.0444 - accuracy: 0.9836 - val_loss: 1.9882 - val_accuracy: 0.7460\n",
            "Epoch 38/50\n",
            "4500/4500 - 94s - loss: 0.0420 - accuracy: 0.9841 - val_loss: 1.9244 - val_accuracy: 0.7462\n",
            "Epoch 39/50\n",
            "4500/4500 - 94s - loss: 0.0424 - accuracy: 0.9843 - val_loss: 1.9449 - val_accuracy: 0.7458\n",
            "Epoch 40/50\n",
            "4500/4500 - 94s - loss: 0.0428 - accuracy: 0.9845 - val_loss: 2.0427 - val_accuracy: 0.7477\n",
            "Epoch 41/50\n",
            "4500/4500 - 94s - loss: 0.0407 - accuracy: 0.9851 - val_loss: 1.9597 - val_accuracy: 0.7424\n",
            "Epoch 42/50\n",
            "4500/4500 - 94s - loss: 0.0401 - accuracy: 0.9850 - val_loss: 1.9484 - val_accuracy: 0.7414\n",
            "Epoch 43/50\n",
            "4500/4500 - 94s - loss: 0.0389 - accuracy: 0.9851 - val_loss: 2.0772 - val_accuracy: 0.7415\n",
            "Epoch 44/50\n",
            "4500/4500 - 94s - loss: 0.0391 - accuracy: 0.9858 - val_loss: 2.0020 - val_accuracy: 0.7412\n",
            "Epoch 45/50\n",
            "4500/4500 - 94s - loss: 0.0384 - accuracy: 0.9859 - val_loss: 2.0530 - val_accuracy: 0.7423\n",
            "Epoch 46/50\n",
            "4500/4500 - 94s - loss: 0.0399 - accuracy: 0.9852 - val_loss: 2.0745 - val_accuracy: 0.7438\n",
            "Epoch 47/50\n",
            "4500/4500 - 94s - loss: 0.0383 - accuracy: 0.9860 - val_loss: 1.9581 - val_accuracy: 0.7449\n",
            "Epoch 48/50\n",
            "4500/4500 - 94s - loss: 0.0377 - accuracy: 0.9862 - val_loss: 2.0130 - val_accuracy: 0.7431\n",
            "Epoch 49/50\n",
            "4500/4500 - 94s - loss: 0.0375 - accuracy: 0.9859 - val_loss: 2.0450 - val_accuracy: 0.7436\n",
            "Epoch 50/50\n",
            "4500/4500 - 93s - loss: 0.0373 - accuracy: 0.9861 - val_loss: 2.0611 - val_accuracy: 0.7418\n",
            "Training Complete\n"
          ],
          "name": "stdout"
        }
      ]
    },
    {
      "cell_type": "code",
      "metadata": {
        "id": "hjJhwPj9A_is",
        "colab_type": "code",
        "colab": {
          "base_uri": "https://localhost:8080/",
          "height": 607
        },
        "outputId": "9b06ec57-588a-4c3c-ac61-9c9eb6f499ba"
      },
      "source": [
        "import matplotlib.image  as mpimg\n",
        "import matplotlib.pyplot as plt\n",
        "\n",
        "#-----------------------------------------------------------\n",
        "# Retrieve a list of list results on training and test data\n",
        "# sets for each training epoch\n",
        "#-----------------------------------------------------------\n",
        "acc=history.history['accuracy']\n",
        "val_acc=history.history['val_accuracy']\n",
        "loss=history.history['loss']\n",
        "val_loss=history.history['val_loss']\n",
        "\n",
        "epochs=range(len(acc)) # Get number of epochs\n",
        "\n",
        "#------------------------------------------------\n",
        "# Plot training and validation accuracy per epoch\n",
        "#------------------------------------------------\n",
        "plt.plot(epochs, acc, 'r')\n",
        "plt.plot(epochs, val_acc, 'b')\n",
        "plt.title('Training and validation accuracy')\n",
        "plt.xlabel(\"Epochs\")\n",
        "plt.ylabel(\"Accuracy\")\n",
        "plt.legend([\"Accuracy\", \"Validation Accuracy\"])\n",
        "\n",
        "plt.figure()\n",
        "\n",
        "#------------------------------------------------\n",
        "# Plot training and validation loss per epoch\n",
        "#------------------------------------------------\n",
        "plt.plot(epochs, loss, 'r')\n",
        "plt.plot(epochs, val_loss, 'b')\n",
        "plt.title('Training and validation loss')\n",
        "plt.xlabel(\"Epochs\")\n",
        "plt.ylabel(\"Loss\")\n",
        "plt.legend([\"Loss\", \"Validation Loss\"])\n",
        "\n",
        "plt.figure()\n",
        "\n",
        "\n",
        "# Expected Output\n",
        "# A chart where the validation loss does not increase sharply!"
      ],
      "execution_count": 22,
      "outputs": [
        {
          "output_type": "execute_result",
          "data": {
            "text/plain": [
              "<Figure size 432x288 with 0 Axes>"
            ]
          },
          "metadata": {
            "tags": []
          },
          "execution_count": 22
        },
        {
          "output_type": "display_data",
          "data": {
            "image/png": "[encoded data removed]",
            "text/plain": [
              "<Figure size 432x288 with 1 Axes>"
            ]
          },
          "metadata": {
            "tags": [],
            "needs_background": "light"
          }
        },
        {
          "output_type": "display_data",
          "data": {
            "image/png": "[encoded data removed]",
            "text/plain": [
              "<Figure size 432x288 with 1 Axes>"
            ]
          },
          "metadata": {
            "tags": [],
            "needs_background": "light"
          }
        },
        {
          "output_type": "display_data",
          "data": {
            "text/plain": [
              "<Figure size 432x288 with 0 Axes>"
            ]
          },
          "metadata": {
            "tags": []
          }
        }
      ]
    },
    {
      "cell_type": "code",
      "metadata": {
        "colab_type": "code",
        "id": "iKKvbuEBOGFz",
        "colab": {
          "base_uri": "https://localhost:8080/",
          "height": 1000
        },
        "outputId": "c636f058-472d-4f8d-b4cc-2a71fc297510"
      },
      "source": [
        "# CNN model\n",
        "\n",
        "cnn_model = tf.keras.Sequential([\n",
        "    tf.keras.layers.Embedding(vocab_size+1, embedding_dim, input_length=max_length, weights=[embeddings_matrix], trainable=False),\n",
        "    # YOUR CODE HERE - experiment with combining different types, such as convolutions and LSTMs\n",
        "    tf.keras.layers.Conv1D(64,3,activation='relu'),\n",
        "    tf.keras.layers.MaxPooling1D(),\n",
        "    tf.keras.layers.Conv1D(128,5, activation='relu'),\n",
        "    tf.keras.layers.MaxPooling1D(),\n",
        "    tf.keras.layers.Flatten(),\n",
        "    tf.keras.layers.Dense(128,activation='relu'),\n",
        "    tf.keras.layers.Dense(1,activation='sigmoid'),\n",
        "])\n",
        "cnn_model.compile(optimizer='adam',loss='binary_crossentropy',metrics=['accuracy'])\n",
        "cnn_model.summary()\n",
        "\n",
        "num_epochs = 50\n",
        "cnn_history = cnn_model.fit(training_sequences, training_labels, epochs=num_epochs, validation_data=(test_sequences, test_labels), verbose=2)\n",
        "\n",
        "print(\"Training Complete\")\n"
      ],
      "execution_count": 28,
      "outputs": [
        {
          "output_type": "stream",
          "text": [
            "Model: \"sequential_4\"\n",
            "_________________________________________________________________\n",
            "Layer (type)                 Output Shape              Param #   \n",
            "=================================================================\n",
            "embedding_6 (Embedding)      (None, 16, 100)           13806000  \n",
            "_________________________________________________________________\n",
            "conv1d_2 (Conv1D)            (None, 14, 64)            19264     \n",
            "_________________________________________________________________\n",
            "max_pooling1d_2 (MaxPooling1 (None, 7, 64)             0         \n",
            "_________________________________________________________________\n",
            "conv1d_3 (Conv1D)            (None, 3, 128)            41088     \n",
            "_________________________________________________________________\n",
            "max_pooling1d_3 (MaxPooling1 (None, 1, 128)            0         \n",
            "_________________________________________________________________\n",
            "flatten_4 (Flatten)          (None, 128)               0         \n",
            "_________________________________________________________________\n",
            "dense_8 (Dense)              (None, 128)               16512     \n",
            "_________________________________________________________________\n",
            "dense_9 (Dense)              (None, 1)                 129       \n",
            "=================================================================\n",
            "Total params: 13,882,993\n",
            "Trainable params: 76,993\n",
            "Non-trainable params: 13,806,000\n",
            "_________________________________________________________________\n",
            "Epoch 1/50\n",
            "4500/4500 - 18s - loss: 0.5532 - accuracy: 0.7132 - val_loss: 0.5209 - val_accuracy: 0.7372\n",
            "Epoch 2/50\n",
            "4500/4500 - 18s - loss: 0.5080 - accuracy: 0.7474 - val_loss: 0.5134 - val_accuracy: 0.7419\n",
            "Epoch 3/50\n",
            "4500/4500 - 18s - loss: 0.4859 - accuracy: 0.7615 - val_loss: 0.5398 - val_accuracy: 0.7402\n",
            "Epoch 4/50\n",
            "4500/4500 - 18s - loss: 0.4675 - accuracy: 0.7717 - val_loss: 0.5143 - val_accuracy: 0.7471\n",
            "Epoch 5/50\n",
            "4500/4500 - 18s - loss: 0.4499 - accuracy: 0.7824 - val_loss: 0.5147 - val_accuracy: 0.7459\n",
            "Epoch 6/50\n",
            "4500/4500 - 18s - loss: 0.4321 - accuracy: 0.7928 - val_loss: 0.5322 - val_accuracy: 0.7432\n",
            "Epoch 7/50\n",
            "4500/4500 - 18s - loss: 0.4148 - accuracy: 0.8029 - val_loss: 0.5427 - val_accuracy: 0.7403\n",
            "Epoch 8/50\n",
            "4500/4500 - 18s - loss: 0.3981 - accuracy: 0.8109 - val_loss: 0.5729 - val_accuracy: 0.7370\n",
            "Epoch 9/50\n",
            "4500/4500 - 18s - loss: 0.3807 - accuracy: 0.8204 - val_loss: 0.5893 - val_accuracy: 0.7352\n",
            "Epoch 10/50\n",
            "4500/4500 - 18s - loss: 0.3643 - accuracy: 0.8274 - val_loss: 0.6165 - val_accuracy: 0.7315\n",
            "Epoch 11/50\n",
            "4500/4500 - 18s - loss: 0.3483 - accuracy: 0.8364 - val_loss: 0.6364 - val_accuracy: 0.7258\n",
            "Epoch 12/50\n",
            "4500/4500 - 18s - loss: 0.3345 - accuracy: 0.8437 - val_loss: 0.6627 - val_accuracy: 0.7283\n",
            "Epoch 13/50\n",
            "4500/4500 - 18s - loss: 0.3192 - accuracy: 0.8510 - val_loss: 0.7066 - val_accuracy: 0.7232\n",
            "Epoch 14/50\n",
            "4500/4500 - 18s - loss: 0.3067 - accuracy: 0.8576 - val_loss: 0.7088 - val_accuracy: 0.7227\n",
            "Epoch 15/50\n",
            "4500/4500 - 18s - loss: 0.2944 - accuracy: 0.8634 - val_loss: 0.8110 - val_accuracy: 0.7194\n",
            "Epoch 16/50\n",
            "4500/4500 - 18s - loss: 0.2840 - accuracy: 0.8690 - val_loss: 0.8105 - val_accuracy: 0.7160\n",
            "Epoch 17/50\n",
            "4500/4500 - 18s - loss: 0.2727 - accuracy: 0.8754 - val_loss: 0.8337 - val_accuracy: 0.7128\n",
            "Epoch 18/50\n",
            "4500/4500 - 18s - loss: 0.2622 - accuracy: 0.8803 - val_loss: 0.9199 - val_accuracy: 0.7176\n",
            "Epoch 19/50\n",
            "4500/4500 - 18s - loss: 0.2540 - accuracy: 0.8839 - val_loss: 0.9400 - val_accuracy: 0.7122\n",
            "Epoch 20/50\n",
            "4500/4500 - 18s - loss: 0.2440 - accuracy: 0.8896 - val_loss: 0.9660 - val_accuracy: 0.7144\n",
            "Epoch 21/50\n",
            "4500/4500 - 18s - loss: 0.2368 - accuracy: 0.8937 - val_loss: 1.0443 - val_accuracy: 0.7118\n",
            "Epoch 22/50\n",
            "4500/4500 - 18s - loss: 0.2282 - accuracy: 0.8973 - val_loss: 1.0232 - val_accuracy: 0.7076\n",
            "Epoch 23/50\n",
            "4500/4500 - 18s - loss: 0.2203 - accuracy: 0.9011 - val_loss: 1.0538 - val_accuracy: 0.7056\n",
            "Epoch 24/50\n",
            "4500/4500 - 18s - loss: 0.2139 - accuracy: 0.9043 - val_loss: 1.1598 - val_accuracy: 0.6996\n",
            "Epoch 25/50\n",
            "4500/4500 - 18s - loss: 0.2071 - accuracy: 0.9069 - val_loss: 1.1768 - val_accuracy: 0.7045\n",
            "Epoch 26/50\n",
            "4500/4500 - 18s - loss: 0.2016 - accuracy: 0.9106 - val_loss: 1.1992 - val_accuracy: 0.7071\n",
            "Epoch 27/50\n",
            "4500/4500 - 18s - loss: 0.1972 - accuracy: 0.9134 - val_loss: 1.2086 - val_accuracy: 0.7064\n",
            "Epoch 28/50\n",
            "4500/4500 - 18s - loss: 0.1889 - accuracy: 0.9162 - val_loss: 1.3411 - val_accuracy: 0.7057\n",
            "Epoch 29/50\n",
            "4500/4500 - 18s - loss: 0.1832 - accuracy: 0.9200 - val_loss: 1.2836 - val_accuracy: 0.7041\n",
            "Epoch 30/50\n",
            "4500/4500 - 18s - loss: 0.1798 - accuracy: 0.9215 - val_loss: 1.2777 - val_accuracy: 0.6999\n",
            "Epoch 31/50\n",
            "4500/4500 - 18s - loss: 0.1739 - accuracy: 0.9240 - val_loss: 1.4170 - val_accuracy: 0.7006\n",
            "Epoch 32/50\n",
            "4500/4500 - 18s - loss: 0.1685 - accuracy: 0.9269 - val_loss: 1.5091 - val_accuracy: 0.6999\n",
            "Epoch 33/50\n",
            "4500/4500 - 18s - loss: 0.1660 - accuracy: 0.9287 - val_loss: 1.5087 - val_accuracy: 0.7019\n",
            "Epoch 34/50\n",
            "4500/4500 - 18s - loss: 0.1604 - accuracy: 0.9313 - val_loss: 1.5262 - val_accuracy: 0.7030\n",
            "Epoch 35/50\n",
            "4500/4500 - 18s - loss: 0.1567 - accuracy: 0.9324 - val_loss: 1.5569 - val_accuracy: 0.7022\n",
            "Epoch 36/50\n",
            "4500/4500 - 18s - loss: 0.1524 - accuracy: 0.9342 - val_loss: 1.6916 - val_accuracy: 0.7004\n",
            "Epoch 37/50\n",
            "4500/4500 - 18s - loss: 0.1512 - accuracy: 0.9355 - val_loss: 1.6472 - val_accuracy: 0.6941\n",
            "Epoch 38/50\n",
            "4500/4500 - 18s - loss: 0.1461 - accuracy: 0.9378 - val_loss: 1.6495 - val_accuracy: 0.6979\n",
            "Epoch 39/50\n",
            "4500/4500 - 18s - loss: 0.1439 - accuracy: 0.9391 - val_loss: 1.7881 - val_accuracy: 0.7029\n",
            "Epoch 40/50\n",
            "4500/4500 - 18s - loss: 0.1397 - accuracy: 0.9410 - val_loss: 1.7200 - val_accuracy: 0.6968\n",
            "Epoch 41/50\n",
            "4500/4500 - 18s - loss: 0.1372 - accuracy: 0.9422 - val_loss: 1.7442 - val_accuracy: 0.6982\n",
            "Epoch 42/50\n",
            "4500/4500 - 18s - loss: 0.1332 - accuracy: 0.9437 - val_loss: 1.8031 - val_accuracy: 0.7004\n",
            "Epoch 43/50\n",
            "4500/4500 - 18s - loss: 0.1324 - accuracy: 0.9450 - val_loss: 2.0180 - val_accuracy: 0.6999\n",
            "Epoch 44/50\n",
            "4500/4500 - 18s - loss: 0.1285 - accuracy: 0.9465 - val_loss: 1.8806 - val_accuracy: 0.6960\n",
            "Epoch 45/50\n",
            "4500/4500 - 18s - loss: 0.1239 - accuracy: 0.9479 - val_loss: 1.9265 - val_accuracy: 0.6935\n",
            "Epoch 46/50\n",
            "4500/4500 - 18s - loss: 0.1231 - accuracy: 0.9491 - val_loss: 1.9777 - val_accuracy: 0.6953\n",
            "Epoch 47/50\n",
            "4500/4500 - 18s - loss: 0.1212 - accuracy: 0.9505 - val_loss: 1.9975 - val_accuracy: 0.7003\n",
            "Epoch 48/50\n",
            "4500/4500 - 18s - loss: 0.1188 - accuracy: 0.9507 - val_loss: 2.0456 - val_accuracy: 0.6923\n",
            "Epoch 49/50\n",
            "4500/4500 - 18s - loss: 0.1170 - accuracy: 0.9516 - val_loss: 2.0373 - val_accuracy: 0.7000\n",
            "Epoch 50/50\n",
            "4500/4500 - 18s - loss: 0.1148 - accuracy: 0.9528 - val_loss: 2.0556 - val_accuracy: 0.6967\n",
            "Training Complete\n"
          ],
          "name": "stdout"
        }
      ]
    },
    {
      "cell_type": "code",
      "metadata": {
        "colab_type": "code",
        "id": "qxju4ItJKO8F",
        "colab": {
          "base_uri": "https://localhost:8080/",
          "height": 607
        },
        "outputId": "c0586a2b-55a6-4b95-ac9e-a1ff0d78a4c3"
      },
      "source": [
        "\n",
        "#-----------------------------------------------------------\n",
        "# Retrieve a list of list results on training and test data\n",
        "# sets for each training epoch\n",
        "#-----------------------------------------------------------\n",
        "acc=cnn_history.history['accuracy']\n",
        "val_acc=cnn_history.history['val_accuracy']\n",
        "loss=cnn_history.history['loss']\n",
        "val_loss=cnn_history.history['val_loss']\n",
        "\n",
        "epochs=range(len(acc)) # Get number of epochs\n",
        "\n",
        "#------------------------------------------------\n",
        "# Plot training and validation accuracy per epoch\n",
        "#------------------------------------------------\n",
        "plt.plot(epochs, acc, 'r')\n",
        "plt.plot(epochs, val_acc, 'b')\n",
        "plt.title('Training and validation accuracy')\n",
        "plt.xlabel(\"Epochs\")\n",
        "plt.ylabel(\"Accuracy\")\n",
        "plt.legend([\"Accuracy\", \"Validation Accuracy\"])\n",
        "\n",
        "plt.figure()\n",
        "\n",
        "#------------------------------------------------\n",
        "# Plot training and validation loss per epoch\n",
        "#------------------------------------------------\n",
        "plt.plot(epochs, loss, 'r')\n",
        "plt.plot(epochs, val_loss, 'b')\n",
        "plt.title('Training and validation loss')\n",
        "plt.xlabel(\"Epochs\")\n",
        "plt.ylabel(\"Loss\")\n",
        "plt.legend([\"Loss\", \"Validation Loss\"])\n",
        "\n",
        "plt.figure()\n",
        "\n",
        "\n",
        "# Expected Output\n",
        "# A chart where the validation loss does not increase sharply!"
      ],
      "execution_count": 31,
      "outputs": [
        {
          "output_type": "execute_result",
          "data": {
            "text/plain": [
              "<Figure size 432x288 with 0 Axes>"
            ]
          },
          "metadata": {
            "tags": []
          },
          "execution_count": 31
        },
        {
          "output_type": "display_data",
          "data": {
            "image/png": "[encoded data removed]",
            "text/plain": [
              "<Figure size 432x288 with 1 Axes>"
            ]
          },
          "metadata": {
            "tags": [],
            "needs_background": "light"
          }
        },
        {
          "output_type": "display_data",
          "data": {
            "image/png": "[encoded data removed]",
            "text/plain": [
              "<Figure size 432x288 with 1 Axes>"
            ]
          },
          "metadata": {
            "tags": [],
            "needs_background": "light"
          }
        },
        {
          "output_type": "display_data",
          "data": {
            "text/plain": [
              "<Figure size 432x288 with 0 Axes>"
            ]
          },
          "metadata": {
            "tags": []
          }
        }
      ]
    },
    {
      "cell_type": "code",
      "metadata": {
        "id": "IdbibRIR_bCM",
        "colab_type": "code",
        "colab": {
          "base_uri": "https://localhost:8080/",
          "height": 1000
        },
        "outputId": "cf30ceba-a47e-49cd-e5e0-c88a2c223488"
      },
      "source": [
        "# GRU model\n",
        "\n",
        "gru_model = tf.keras.Sequential([\n",
        "    tf.keras.layers.Embedding(vocab_size+1, embedding_dim, input_length=max_length, weights=[embeddings_matrix], trainable=False),\n",
        "    # YOUR CODE HERE - experiment with combining different types, such as convolutions and LSTMs\n",
        "    tf.keras.layers.Bidirectional(tf.keras.layers.GRU(units=64, return_sequences=True)),\n",
        "    tf.keras.layers.Bidirectional(tf.keras.layers.GRU(units=64)),\n",
        "    tf.keras.layers.Flatten(),\n",
        "    tf.keras.layers.Dense(128,activation='relu'),\n",
        "    tf.keras.layers.Dense(1,activation='sigmoid'),\n",
        "])\n",
        "gru_model.compile(optimizer='adam',loss='binary_crossentropy',metrics=['accuracy'])\n",
        "gru_model.summary()\n",
        "\n",
        "num_epochs = 50\n",
        "gru_history = gru_model.fit(training_sequences, training_labels, epochs=num_epochs, validation_data=(test_sequences, test_labels), verbose=2)\n",
        "\n",
        "print(\"Training Complete\")\n"
      ],
      "execution_count": 29,
      "outputs": [
        {
          "output_type": "stream",
          "text": [
            "Model: \"sequential_5\"\n",
            "_________________________________________________________________\n",
            "Layer (type)                 Output Shape              Param #   \n",
            "=================================================================\n",
            "embedding_7 (Embedding)      (None, 16, 100)           13806000  \n",
            "_________________________________________________________________\n",
            "bidirectional_7 (Bidirection (None, 16, 128)           63744     \n",
            "_________________________________________________________________\n",
            "bidirectional_8 (Bidirection (None, 128)               74496     \n",
            "_________________________________________________________________\n",
            "flatten_5 (Flatten)          (None, 128)               0         \n",
            "_________________________________________________________________\n",
            "dense_10 (Dense)             (None, 128)               16512     \n",
            "_________________________________________________________________\n",
            "dense_11 (Dense)             (None, 1)                 129       \n",
            "=================================================================\n",
            "Total params: 13,960,881\n",
            "Trainable params: 154,881\n",
            "Non-trainable params: 13,806,000\n",
            "_________________________________________________________________\n",
            "Epoch 1/50\n",
            "4500/4500 - 100s - loss: 0.5240 - accuracy: 0.7358 - val_loss: 0.5024 - val_accuracy: 0.7551\n",
            "Epoch 2/50\n",
            "4500/4500 - 98s - loss: 0.4729 - accuracy: 0.7717 - val_loss: 0.4789 - val_accuracy: 0.7696\n",
            "Epoch 3/50\n",
            "4500/4500 - 98s - loss: 0.4466 - accuracy: 0.7875 - val_loss: 0.4684 - val_accuracy: 0.7717\n",
            "Epoch 4/50\n",
            "4500/4500 - 98s - loss: 0.4218 - accuracy: 0.8030 - val_loss: 0.4703 - val_accuracy: 0.7727\n",
            "Epoch 5/50\n",
            "4500/4500 - 98s - loss: 0.3949 - accuracy: 0.8172 - val_loss: 0.4770 - val_accuracy: 0.7762\n",
            "Epoch 6/50\n",
            "4500/4500 - 98s - loss: 0.3636 - accuracy: 0.8351 - val_loss: 0.4999 - val_accuracy: 0.7681\n",
            "Epoch 7/50\n",
            "4500/4500 - 98s - loss: 0.3296 - accuracy: 0.8514 - val_loss: 0.5314 - val_accuracy: 0.7638\n",
            "Epoch 8/50\n",
            "4500/4500 - 98s - loss: 0.2959 - accuracy: 0.8695 - val_loss: 0.5890 - val_accuracy: 0.7543\n",
            "Epoch 9/50\n",
            "4500/4500 - 99s - loss: 0.2617 - accuracy: 0.8853 - val_loss: 0.6424 - val_accuracy: 0.7544\n",
            "Epoch 10/50\n",
            "4500/4500 - 99s - loss: 0.2345 - accuracy: 0.8977 - val_loss: 0.6896 - val_accuracy: 0.7547\n",
            "Epoch 11/50\n",
            "4500/4500 - 99s - loss: 0.2097 - accuracy: 0.9090 - val_loss: 0.7736 - val_accuracy: 0.7499\n",
            "Epoch 12/50\n",
            "4500/4500 - 99s - loss: 0.1945 - accuracy: 0.9160 - val_loss: 0.8060 - val_accuracy: 0.7433\n",
            "Epoch 13/50\n",
            "4500/4500 - 99s - loss: 0.1793 - accuracy: 0.9238 - val_loss: 0.8686 - val_accuracy: 0.7404\n",
            "Epoch 14/50\n",
            "4500/4500 - 98s - loss: 0.1684 - accuracy: 0.9297 - val_loss: 0.9070 - val_accuracy: 0.7442\n",
            "Epoch 15/50\n",
            "4500/4500 - 98s - loss: 0.1606 - accuracy: 0.9323 - val_loss: 0.9144 - val_accuracy: 0.7371\n",
            "Epoch 16/50\n",
            "4500/4500 - 98s - loss: 0.1532 - accuracy: 0.9362 - val_loss: 1.0304 - val_accuracy: 0.7460\n",
            "Epoch 17/50\n",
            "4500/4500 - 98s - loss: 0.1467 - accuracy: 0.9391 - val_loss: 0.9879 - val_accuracy: 0.7451\n",
            "Epoch 18/50\n",
            "4500/4500 - 99s - loss: 0.1427 - accuracy: 0.9414 - val_loss: 1.0433 - val_accuracy: 0.7431\n",
            "Epoch 19/50\n",
            "4500/4500 - 99s - loss: 0.1392 - accuracy: 0.9424 - val_loss: 1.0127 - val_accuracy: 0.7429\n",
            "Epoch 20/50\n",
            "4500/4500 - 98s - loss: 0.1330 - accuracy: 0.9452 - val_loss: 1.0686 - val_accuracy: 0.7437\n",
            "Epoch 21/50\n",
            "4500/4500 - 98s - loss: 0.1325 - accuracy: 0.9452 - val_loss: 1.0509 - val_accuracy: 0.7401\n",
            "Epoch 22/50\n",
            "4500/4500 - 98s - loss: 0.1280 - accuracy: 0.9476 - val_loss: 1.1054 - val_accuracy: 0.7427\n",
            "Epoch 23/50\n",
            "4500/4500 - 97s - loss: 0.1256 - accuracy: 0.9489 - val_loss: 1.0986 - val_accuracy: 0.7433\n",
            "Epoch 24/50\n",
            "4500/4500 - 96s - loss: 0.1237 - accuracy: 0.9498 - val_loss: 1.1445 - val_accuracy: 0.7412\n",
            "Epoch 25/50\n",
            "4500/4500 - 97s - loss: 0.1218 - accuracy: 0.9510 - val_loss: 1.1096 - val_accuracy: 0.7380\n",
            "Epoch 26/50\n",
            "4500/4500 - 98s - loss: 0.1214 - accuracy: 0.9508 - val_loss: 1.1015 - val_accuracy: 0.7362\n",
            "Epoch 27/50\n",
            "4500/4500 - 98s - loss: 0.1193 - accuracy: 0.9514 - val_loss: 1.1337 - val_accuracy: 0.7449\n",
            "Epoch 28/50\n",
            "4500/4500 - 98s - loss: 0.1178 - accuracy: 0.9522 - val_loss: 1.1660 - val_accuracy: 0.7384\n",
            "Epoch 29/50\n",
            "4500/4500 - 98s - loss: 0.1178 - accuracy: 0.9533 - val_loss: 1.1432 - val_accuracy: 0.7426\n",
            "Epoch 30/50\n",
            "4500/4500 - 97s - loss: 0.1131 - accuracy: 0.9545 - val_loss: 1.1815 - val_accuracy: 0.7413\n",
            "Epoch 31/50\n",
            "4500/4500 - 98s - loss: 0.1131 - accuracy: 0.9549 - val_loss: 1.1639 - val_accuracy: 0.7344\n",
            "Epoch 32/50\n",
            "4500/4500 - 98s - loss: 0.1121 - accuracy: 0.9557 - val_loss: 1.1892 - val_accuracy: 0.7404\n",
            "Epoch 33/50\n",
            "4500/4500 - 98s - loss: 0.1120 - accuracy: 0.9553 - val_loss: 1.1709 - val_accuracy: 0.7381\n",
            "Epoch 34/50\n",
            "4500/4500 - 98s - loss: 0.1106 - accuracy: 0.9557 - val_loss: 1.1354 - val_accuracy: 0.7444\n",
            "Epoch 35/50\n",
            "4500/4500 - 98s - loss: 0.1106 - accuracy: 0.9554 - val_loss: 1.1886 - val_accuracy: 0.7418\n",
            "Epoch 36/50\n",
            "4500/4500 - 98s - loss: 0.1102 - accuracy: 0.9555 - val_loss: 1.1277 - val_accuracy: 0.7430\n",
            "Epoch 37/50\n",
            "4500/4500 - 98s - loss: 0.1086 - accuracy: 0.9567 - val_loss: 1.1850 - val_accuracy: 0.7437\n",
            "Epoch 38/50\n",
            "4500/4500 - 98s - loss: 0.1090 - accuracy: 0.9561 - val_loss: 1.1758 - val_accuracy: 0.7394\n",
            "Epoch 39/50\n",
            "4500/4500 - 99s - loss: 0.1057 - accuracy: 0.9572 - val_loss: 1.1688 - val_accuracy: 0.7377\n",
            "Epoch 40/50\n",
            "4500/4500 - 98s - loss: 0.1062 - accuracy: 0.9572 - val_loss: 1.1535 - val_accuracy: 0.7351\n",
            "Epoch 41/50\n",
            "4500/4500 - 98s - loss: 0.1067 - accuracy: 0.9572 - val_loss: 1.1797 - val_accuracy: 0.7421\n",
            "Epoch 42/50\n",
            "4500/4500 - 98s - loss: 0.1063 - accuracy: 0.9574 - val_loss: 1.1384 - val_accuracy: 0.7396\n",
            "Epoch 43/50\n",
            "4500/4500 - 98s - loss: 0.1040 - accuracy: 0.9582 - val_loss: 1.1662 - val_accuracy: 0.7428\n",
            "Epoch 44/50\n",
            "4500/4500 - 98s - loss: 0.1057 - accuracy: 0.9581 - val_loss: 1.1772 - val_accuracy: 0.7419\n",
            "Epoch 45/50\n",
            "4500/4500 - 98s - loss: 0.1059 - accuracy: 0.9580 - val_loss: 1.1453 - val_accuracy: 0.7409\n",
            "Epoch 46/50\n",
            "4500/4500 - 98s - loss: 0.1054 - accuracy: 0.9581 - val_loss: 1.1635 - val_accuracy: 0.7379\n",
            "Epoch 47/50\n",
            "4500/4500 - 98s - loss: 0.1032 - accuracy: 0.9588 - val_loss: 1.2168 - val_accuracy: 0.7434\n",
            "Epoch 48/50\n",
            "4500/4500 - 98s - loss: 0.1060 - accuracy: 0.9575 - val_loss: 1.1711 - val_accuracy: 0.7416\n",
            "Epoch 49/50\n",
            "4500/4500 - 98s - loss: 0.1024 - accuracy: 0.9589 - val_loss: 1.1878 - val_accuracy: 0.7412\n",
            "Epoch 50/50\n",
            "4500/4500 - 97s - loss: 0.1027 - accuracy: 0.9590 - val_loss: 1.1417 - val_accuracy: 0.7381\n",
            "Training Complete\n"
          ],
          "name": "stdout"
        }
      ]
    },
    {
      "cell_type": "code",
      "metadata": {
        "id": "FYbcGN0ZBC0h",
        "colab_type": "code",
        "colab": {
          "base_uri": "https://localhost:8080/",
          "height": 607
        },
        "outputId": "f235bf72-c87b-442a-ccee-29a199e28121"
      },
      "source": [
        "\n",
        "\n",
        "#-----------------------------------------------------------\n",
        "# Retrieve a list of list results on training and test data\n",
        "# sets for each training epoch\n",
        "#-----------------------------------------------------------\n",
        "acc=gru_history.history['accuracy']\n",
        "val_acc=gru_history.history['val_accuracy']\n",
        "loss=gru_history.history['loss']\n",
        "val_loss=gru_history.history['val_loss']\n",
        "\n",
        "epochs=range(len(acc)) # Get number of epochs\n",
        "\n",
        "#------------------------------------------------\n",
        "# Plot training and validation accuracy per epoch\n",
        "#------------------------------------------------\n",
        "plt.plot(epochs, acc, 'r')\n",
        "plt.plot(epochs, val_acc, 'b')\n",
        "plt.title('Training and validation accuracy')\n",
        "plt.xlabel(\"Epochs\")\n",
        "plt.ylabel(\"Accuracy\")\n",
        "plt.legend([\"Accuracy\", \"Validation Accuracy\"])\n",
        "\n",
        "plt.figure()\n",
        "\n",
        "#------------------------------------------------\n",
        "# Plot training and validation loss per epoch\n",
        "#------------------------------------------------\n",
        "plt.plot(epochs, loss, 'r')\n",
        "plt.plot(epochs, val_loss, 'b')\n",
        "plt.title('Training and validation loss')\n",
        "plt.xlabel(\"Epochs\")\n",
        "plt.ylabel(\"Loss\")\n",
        "plt.legend([\"Loss\", \"Validation Loss\"])\n",
        "\n",
        "plt.figure()\n",
        "\n",
        "\n",
        "# Expected Output\n",
        "# A chart where the validation loss does not increase sharply!"
      ],
      "execution_count": 30,
      "outputs": [
        {
          "output_type": "execute_result",
          "data": {
            "text/plain": [
              "<Figure size 432x288 with 0 Axes>"
            ]
          },
          "metadata": {
            "tags": []
          },
          "execution_count": 30
        },
        {
          "output_type": "display_data",
          "data": {
            "image/png": "[encoded data removed]",
            "text/plain": [
              "<Figure size 432x288 with 1 Axes>"
            ]
          },
          "metadata": {
            "tags": [],
            "needs_background": "light"
          }
        },
        {
          "output_type": "display_data",
          "data": {
            "image/png": "[encoded data removed]",
            "text/plain": [
              "<Figure size 432x288 with 1 Axes>"
            ]
          },
          "metadata": {
            "tags": [],
            "needs_background": "light"
          }
        },
        {
          "output_type": "display_data",
          "data": {
            "text/plain": [
              "<Figure size 432x288 with 0 Axes>"
            ]
          },
          "metadata": {
            "tags": []
          }
        }
      ]
    },
    {
      "cell_type": "code",
      "metadata": {
        "id": "TnljkUrWEdLR",
        "colab_type": "code",
        "colab": {}
      },
      "source": [
        ""
      ],
      "execution_count": null,
      "outputs": []
    }
  ]
}